{
 "cells": [
  {
   "cell_type": "code",
   "execution_count": 3,
   "metadata": {},
   "outputs": [
    {
     "name": "stdout",
     "output_type": "stream",
     "text": [
      "22.272959183673468 398.17857142857144 17.877219104340856 392\n"
     ]
    }
   ],
   "source": [
    "nDias = 365 + 27\n",
    "totalVisitas = 156086\n",
    "totalUsuarios = 8731\n",
    "promedioVisitasDias = totalVisitas/nDias\n",
    "promedioUsuariosDias = totalUsuarios/nDias\n",
    "visitasPorUsuario = totalVisitas/totalUsuarios\n",
    "\n",
    "\n",
    "print(promedioUsuariosDias,promedioVisitasDias,visitasPorUsuario, nDias)\n"
   ]
  }
 ],
 "metadata": {
  "kernelspec": {
   "display_name": "Python 3.9.7",
   "language": "python",
   "name": "python3"
  },
  "language_info": {
   "codemirror_mode": {
    "name": "ipython",
    "version": 3
   },
   "file_extension": ".py",
   "mimetype": "text/x-python",
   "name": "python",
   "nbconvert_exporter": "python",
   "pygments_lexer": "ipython3",
   "version": "3.9.7"
  },
  "orig_nbformat": 4,
  "vscode": {
   "interpreter": {
    "hash": "19d9ce609b757b7a9a501eab6a2cce6499757e628fef58083be890e73e62d336"
   }
  }
 },
 "nbformat": 4,
 "nbformat_minor": 2
}
